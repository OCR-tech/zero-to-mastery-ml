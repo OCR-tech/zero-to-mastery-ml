{
  "cells": [
    {
      "cell_type": "markdown",
      "metadata": {
        "id": "Ah58jp-ARF7g"
      },
      "source": [
        "# NumPy Practice\n",
        "\n",
        "This notebook offers a set of exercises for different tasks with NumPy.\n",
        "\n",
        "It should be noted there may be more than one different way to answer a question or complete an exercise.\n",
        "\n",
        "Exercises are based off (and directly taken from) the quick introduction to NumPy notebook.\n",
        "\n",
        "Different tasks will be detailed by comments or text.\n",
        "\n",
        "For further reference and resources, it's advised to check out the [NumPy documentation](https://numpy.org/devdocs/user/index.html).\n",
        "\n",
        "And if you get stuck, try searching for a question in the following format: \"how to do XYZ with numpy\", where XYZ is the function you want to leverage from NumPy."
      ]
    },
    {
      "cell_type": "code",
      "execution_count": 1,
      "metadata": {
        "id": "mn0c0itJRF7h"
      },
      "outputs": [],
      "source": [
        "# Import NumPy as its abbreviation 'np'\n",
        "import numpy as np"
      ]
    },
    {
      "cell_type": "code",
      "execution_count": 3,
      "metadata": {
        "id": "qMIkILkuRF7i",
        "outputId": "fcbc224e-3ce9-47a8-cf6c-5e45d7ec5067",
        "colab": {
          "base_uri": "https://localhost:8080/"
        }
      },
      "outputs": [
        {
          "output_type": "execute_result",
          "data": {
            "text/plain": [
              "array([[[5, 5, 2, 4, 3],\n",
              "        [8, 8, 8, 3, 1],\n",
              "        [7, 8, 2, 9, 9],\n",
              "        [5, 9, 0, 4, 8]],\n",
              "\n",
              "       [[5, 1, 0, 6, 7],\n",
              "        [2, 8, 2, 0, 4],\n",
              "        [1, 5, 3, 0, 1],\n",
              "        [7, 1, 6, 8, 0]],\n",
              "\n",
              "       [[9, 3, 4, 5, 0],\n",
              "        [1, 9, 1, 4, 9],\n",
              "        [8, 1, 8, 5, 1],\n",
              "        [4, 2, 2, 5, 1]]])"
            ]
          },
          "metadata": {},
          "execution_count": 3
        }
      ],
      "source": [
        "# Create a 1-dimensional NumPy array using np.array()\n",
        "\n",
        "\n",
        "# Create a 2-dimensional NumPy array using np.array()\n",
        "\n",
        "\n",
        "# Create a 3-dimensional Numpy array using np.array()\n",
        "x1 = np.random.randint(10, size=6)  # One-dimensional array\n",
        "x2 = np.random.randint(10, size=(3, 4))  # Two-dimensional array\n",
        "x3 = np.random.randint(10, size=(3, 4, 5))  # Three-dimensional array\n",
        "x1\n",
        "x2\n",
        "x3"
      ]
    },
    {
      "cell_type": "markdown",
      "metadata": {
        "id": "v7eFI3_URF7i"
      },
      "source": [
        "Now we've you've created 3 different arrays, let's find details about them.\n",
        "\n",
        "Find the shape, number of dimensions, data type, size and type of each array."
      ]
    },
    {
      "cell_type": "code",
      "execution_count": 4,
      "metadata": {
        "id": "XBNkungpRF7j",
        "outputId": "7ffe5b4e-08d0-48a7-b929-e64e711e4ec7",
        "colab": {
          "base_uri": "https://localhost:8080/"
        }
      },
      "outputs": [
        {
          "output_type": "stream",
          "name": "stdout",
          "text": [
            "x1 ndim:  1\n",
            "x1 shape: (6,)\n",
            "x1 size:  6\n"
          ]
        }
      ],
      "source": [
        "# Attributes of 1-dimensional array (shape,\n",
        "# number of dimensions, data type, size and type)\n",
        "print(\"x1 ndim: \", x1.ndim)\n",
        "print(\"x1 shape:\", x1.shape)\n",
        "print(\"x1 size: \", x1.size)"
      ]
    },
    {
      "cell_type": "code",
      "execution_count": null,
      "metadata": {
        "id": "Q4yAtevVRF7j"
      },
      "outputs": [],
      "source": [
        "# Attributes of 2-dimensional array\n"
      ]
    },
    {
      "cell_type": "code",
      "execution_count": null,
      "metadata": {
        "id": "oxCOaUwbRF7j"
      },
      "outputs": [],
      "source": [
        "# Attributes of 3-dimensional array\n"
      ]
    },
    {
      "cell_type": "code",
      "execution_count": null,
      "metadata": {
        "id": "aGFBpfoBRF7j"
      },
      "outputs": [],
      "source": [
        "# Import pandas and create a DataFrame out of one\n",
        "# of the arrays you've created\n"
      ]
    },
    {
      "cell_type": "code",
      "execution_count": null,
      "metadata": {
        "id": "tKmC6bd4RF7k"
      },
      "outputs": [],
      "source": [
        "# Create an array of shape (10, 2) with only ones\n"
      ]
    },
    {
      "cell_type": "code",
      "execution_count": null,
      "metadata": {
        "id": "TQXwCzjpRF7k"
      },
      "outputs": [],
      "source": [
        "# Create an array of shape (7, 2, 3) of only zeros\n"
      ]
    },
    {
      "cell_type": "code",
      "execution_count": null,
      "metadata": {
        "id": "mq6CIj3JRF7k"
      },
      "outputs": [],
      "source": [
        "# Create an array within a range of 0 and 100 with step 3\n"
      ]
    },
    {
      "cell_type": "code",
      "execution_count": null,
      "metadata": {
        "id": "5EpzWNQPRF7k"
      },
      "outputs": [],
      "source": [
        "# Create a random array with numbers between 0 and 10 of size (7, 2)\n"
      ]
    },
    {
      "cell_type": "code",
      "execution_count": null,
      "metadata": {
        "id": "DjExvWL_RF7l"
      },
      "outputs": [],
      "source": [
        "# Create a random array of floats between 0 & 1 of shape (3, 5)\n"
      ]
    },
    {
      "cell_type": "code",
      "execution_count": null,
      "metadata": {
        "id": "RvrrWu6bRF7l"
      },
      "outputs": [],
      "source": [
        "# Set the random seed to 42\n",
        "\n",
        "\n",
        "# Create a random array of numbers between 0 & 10 of size (4, 6)\n"
      ]
    },
    {
      "cell_type": "markdown",
      "metadata": {
        "id": "oTy6MWPoRF7l"
      },
      "source": [
        "Run the cell above again, what happens?\n",
        "\n",
        "Are the numbers in the array different or the same? Why do think this is?"
      ]
    },
    {
      "cell_type": "code",
      "execution_count": null,
      "metadata": {
        "id": "Yp0VDqM6RF7l"
      },
      "outputs": [],
      "source": [
        "# Create an array of random numbers between 1 & 10 of size (3, 7)\n",
        "# and save it to a variable\n",
        "\n",
        "\n",
        "# Find the unique numbers in the array you just created\n"
      ]
    },
    {
      "cell_type": "code",
      "execution_count": null,
      "metadata": {
        "id": "80Dopt0CRF7l"
      },
      "outputs": [],
      "source": [
        "# Find the 0'th index of the latest array you created\n"
      ]
    },
    {
      "cell_type": "code",
      "execution_count": null,
      "metadata": {
        "id": "zevyxHBoRF7l"
      },
      "outputs": [],
      "source": [
        "# Get the first 2 rows of latest array you created\n"
      ]
    },
    {
      "cell_type": "code",
      "execution_count": null,
      "metadata": {
        "id": "WiPgMT1ZRF7l"
      },
      "outputs": [],
      "source": [
        "# Get the first 2 values of the first 2 rows of the latest array\n"
      ]
    },
    {
      "cell_type": "code",
      "execution_count": null,
      "metadata": {
        "id": "MGZ4KYldRF7m"
      },
      "outputs": [],
      "source": [
        "# Create a random array of numbers between 0 & 10 and an array of ones\n",
        "# both of size (3, 5), save them both to variables\n"
      ]
    },
    {
      "cell_type": "code",
      "execution_count": null,
      "metadata": {
        "id": "wLyh95PqRF7m"
      },
      "outputs": [],
      "source": [
        "# Add the two arrays together\n"
      ]
    },
    {
      "cell_type": "code",
      "execution_count": null,
      "metadata": {
        "id": "RhzF0_ZWRF7m"
      },
      "outputs": [],
      "source": [
        "# Create another array of ones of shape (5, 3)\n"
      ]
    },
    {
      "cell_type": "code",
      "execution_count": null,
      "metadata": {
        "id": "JcYcxtzsRF7m"
      },
      "outputs": [],
      "source": [
        "# Try add the array of ones and the other most recent array together\n"
      ]
    },
    {
      "cell_type": "markdown",
      "metadata": {
        "id": "aae3nKyyRF7m"
      },
      "source": [
        "When you try the last cell, it produces an error. Why do think this is?\n",
        "\n",
        "How would you fix it?"
      ]
    },
    {
      "cell_type": "code",
      "execution_count": null,
      "metadata": {
        "id": "JqjtFjyQRF7m"
      },
      "outputs": [],
      "source": [
        "# Create another array of ones of shape (3, 5)\n"
      ]
    },
    {
      "cell_type": "code",
      "execution_count": null,
      "metadata": {
        "id": "Ncn2WQNxRF7m"
      },
      "outputs": [],
      "source": [
        "# Subtract the new array of ones from the other most recent array\n"
      ]
    },
    {
      "cell_type": "code",
      "execution_count": null,
      "metadata": {
        "id": "lL05ZjmJRF7m"
      },
      "outputs": [],
      "source": [
        "# Multiply the ones array with the latest array\n"
      ]
    },
    {
      "cell_type": "code",
      "execution_count": null,
      "metadata": {
        "id": "TIOenkvFRF7m"
      },
      "outputs": [],
      "source": [
        "# Take the latest array to the power of 2 using '**'\n"
      ]
    },
    {
      "cell_type": "code",
      "execution_count": null,
      "metadata": {
        "id": "XPuuMfvWRF7m"
      },
      "outputs": [],
      "source": [
        "# Do the same thing with np.square()\n"
      ]
    },
    {
      "cell_type": "code",
      "execution_count": null,
      "metadata": {
        "id": "BffiOKc4RF7n"
      },
      "outputs": [],
      "source": [
        "# Find the mean of the latest array using np.mean()\n"
      ]
    },
    {
      "cell_type": "code",
      "execution_count": null,
      "metadata": {
        "id": "7WPAaq5CRF7n"
      },
      "outputs": [],
      "source": [
        "# Find the maximum of the latest array using np.max()\n"
      ]
    },
    {
      "cell_type": "code",
      "execution_count": null,
      "metadata": {
        "id": "6AQ0S5-JRF7n"
      },
      "outputs": [],
      "source": [
        "# Find the minimum of the latest array using np.min()\n"
      ]
    },
    {
      "cell_type": "code",
      "execution_count": null,
      "metadata": {
        "id": "MeZDpOQXRF7n"
      },
      "outputs": [],
      "source": [
        "# Find the standard deviation of the latest array\n"
      ]
    },
    {
      "cell_type": "code",
      "execution_count": null,
      "metadata": {
        "id": "KAr76QtBRF7n"
      },
      "outputs": [],
      "source": [
        "# Find the variance of the latest array\n"
      ]
    },
    {
      "cell_type": "code",
      "execution_count": null,
      "metadata": {
        "id": "ZdCJoG8rRF7n"
      },
      "outputs": [],
      "source": [
        "# Reshape the latest array to (3, 5, 1)\n"
      ]
    },
    {
      "cell_type": "code",
      "execution_count": null,
      "metadata": {
        "id": "wMPIiZCpRF7n"
      },
      "outputs": [],
      "source": [
        "# Transpose the latest array\n"
      ]
    },
    {
      "cell_type": "markdown",
      "metadata": {
        "id": "44EwJYoaRF7o"
      },
      "source": [
        "What does the transpose do?"
      ]
    },
    {
      "cell_type": "code",
      "execution_count": null,
      "metadata": {
        "id": "76Gx_smSRF7o"
      },
      "outputs": [],
      "source": [
        "# Create two arrays of random integers between 0 to 10\n",
        "# one of size (3, 3) the other of size (3, 2)\n"
      ]
    },
    {
      "cell_type": "code",
      "execution_count": null,
      "metadata": {
        "id": "oOrteJxjRF7o"
      },
      "outputs": [],
      "source": [
        "# Perform a dot product on the two newest arrays you created\n"
      ]
    },
    {
      "cell_type": "code",
      "execution_count": null,
      "metadata": {
        "id": "Rv4iR4nDRF7r"
      },
      "outputs": [],
      "source": [
        "# Create two arrays of random integers between 0 to 10\n",
        "# both of size (4, 3)\n"
      ]
    },
    {
      "cell_type": "code",
      "execution_count": null,
      "metadata": {
        "id": "Vl4NFNb7RF7s"
      },
      "outputs": [],
      "source": [
        "# Perform a dot product on the two newest arrays you created\n"
      ]
    },
    {
      "cell_type": "markdown",
      "metadata": {
        "id": "dWMSE63tRF7s"
      },
      "source": [
        "It doesn't work. How would you fix it?"
      ]
    },
    {
      "cell_type": "code",
      "execution_count": null,
      "metadata": {
        "id": "ncRPz1dhRF7s"
      },
      "outputs": [],
      "source": [
        "# Take the latest two arrays, perform a transpose on one of them and then perform\n",
        "# a dot product on them both\n"
      ]
    },
    {
      "cell_type": "markdown",
      "metadata": {
        "id": "rA2GWdgdRF7s"
      },
      "source": [
        "Notice how performing a transpose allows the dot product to happen.\n",
        "\n",
        "Why is this?\n",
        "\n",
        "Checking out the documentation on [`np.dot()`](https://docs.scipy.org/doc/numpy/reference/generated/numpy.dot.html) may help, as well as reading [Math is Fun's guide on the dot product](https://www.mathsisfun.com/algebra/vectors-dot-product.html).\n",
        "\n",
        "Let's now compare arrays."
      ]
    },
    {
      "cell_type": "code",
      "execution_count": null,
      "metadata": {
        "id": "G6uO2X7JRF7s"
      },
      "outputs": [],
      "source": [
        "# Create two arrays of random integers between 0 & 10 of the same shape\n",
        "# and save them to variables\n"
      ]
    },
    {
      "cell_type": "code",
      "execution_count": null,
      "metadata": {
        "id": "UuWsk8fcRF7s"
      },
      "outputs": [],
      "source": [
        "# Compare the two arrays with '>'\n"
      ]
    },
    {
      "cell_type": "markdown",
      "metadata": {
        "id": "enDWgyywRF7s"
      },
      "source": [
        "What happens when you compare the arrays with `>`?"
      ]
    },
    {
      "cell_type": "code",
      "execution_count": null,
      "metadata": {
        "id": "8PRDZiOWRF7s"
      },
      "outputs": [],
      "source": [
        "# Compare the two arrays with '>='\n"
      ]
    },
    {
      "cell_type": "code",
      "execution_count": null,
      "metadata": {
        "id": "Ta7BAWvTRF7t"
      },
      "outputs": [],
      "source": [
        "# Find which elements of the first array are greater than 7\n"
      ]
    },
    {
      "cell_type": "code",
      "execution_count": null,
      "metadata": {
        "id": "_3xI_DPlRF7t"
      },
      "outputs": [],
      "source": [
        "# Which parts of each array are equal? (try using '==')\n"
      ]
    },
    {
      "cell_type": "code",
      "execution_count": null,
      "metadata": {
        "id": "ch1DTgJORF7t"
      },
      "outputs": [],
      "source": [
        "# Sort one of the arrays you just created in ascending order\n"
      ]
    },
    {
      "cell_type": "code",
      "execution_count": null,
      "metadata": {
        "id": "mNJdVL1wRF7t"
      },
      "outputs": [],
      "source": [
        "# Sort the indexes of one of the arrays you just created\n"
      ]
    },
    {
      "cell_type": "code",
      "execution_count": null,
      "metadata": {
        "id": "pmUuzvP5RF7t"
      },
      "outputs": [],
      "source": [
        "# Find the index with the maximum value in one of the arrays you've created\n"
      ]
    },
    {
      "cell_type": "code",
      "execution_count": null,
      "metadata": {
        "id": "OEx7YqKCRF7t"
      },
      "outputs": [],
      "source": [
        "# Find the index with the minimum value in one of the arrays you've created\n"
      ]
    },
    {
      "cell_type": "code",
      "execution_count": null,
      "metadata": {
        "id": "X87UiK5nRF7t"
      },
      "outputs": [],
      "source": [
        "# Find the indexes with the maximum values down the 1st axis (axis=1)\n",
        "# of one of the arrays you created\n"
      ]
    },
    {
      "cell_type": "code",
      "execution_count": null,
      "metadata": {
        "id": "zK96d84BRF7t"
      },
      "outputs": [],
      "source": [
        "# Find the indexes with the minimum values across the 0th axis (axis=0)\n",
        "# of one of the arrays you created\n"
      ]
    },
    {
      "cell_type": "code",
      "execution_count": null,
      "metadata": {
        "id": "uTLH5lX0RF7u"
      },
      "outputs": [],
      "source": [
        "# Create an array of normally distributed random numbers\n"
      ]
    },
    {
      "cell_type": "code",
      "execution_count": null,
      "metadata": {
        "id": "bhbi5IYJRF7u"
      },
      "outputs": [],
      "source": [
        "# Create an array with 10 evenly spaced numbers between 1 and 100\n"
      ]
    },
    {
      "cell_type": "markdown",
      "metadata": {
        "id": "Ahhe-kGbRF7u"
      },
      "source": [
        "## Extensions\n",
        "\n",
        "For more exercises, check out the [NumPy quickstart tutorial](https://numpy.org/doc/stable/user/quickstart.html). A good practice would be to read through it and for the parts you find interesting, add them into the end of this notebook.\n",
        "\n",
        "Pay particular attention to the section on broadcasting. And most importantly, get hands-on with the code as much as possible. If in dobut, run the code, see what it does.\n",
        "\n",
        "The next place you could go is the [Stack Overflow page for the top questions and answers for NumPy](https://stackoverflow.com/questions/tagged/numpy?sort=MostVotes&edited=true). Often, you'll find some of the most common and useful NumPy functions here. Don't forget to play around with the filters! You'll likely find something helpful here.\n",
        "\n",
        "Finally, as always, remember, the best way to learn something new is to try it. And try it relentlessly. If you get interested in some kind of NumPy function, asking yourself, \"I wonder if NumPy could do that?\", go and find out."
      ]
    }
  ],
  "metadata": {
    "kernelspec": {
      "display_name": "Python 3",
      "language": "python",
      "name": "python3"
    },
    "language_info": {
      "codemirror_mode": {
        "name": "ipython",
        "version": 3
      },
      "file_extension": ".py",
      "mimetype": "text/x-python",
      "name": "python",
      "nbconvert_exporter": "python",
      "pygments_lexer": "ipython3",
      "version": "3.8.3"
    },
    "colab": {
      "provenance": []
    }
  },
  "nbformat": 4,
  "nbformat_minor": 0
}